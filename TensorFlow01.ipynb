{
  "nbformat": 4,
  "nbformat_minor": 0,
  "metadata": {
    "colab": {
      "name": "TensorFlow01",
      "version": "0.3.2",
      "provenance": [],
      "collapsed_sections": [],
      "include_colab_link": true
    },
    "kernelspec": {
      "name": "python3",
      "display_name": "Python 3"
    },
    "accelerator": "GPU"
  },
  "cells": [
    {
      "cell_type": "markdown",
      "metadata": {
        "id": "view-in-github",
        "colab_type": "text"
      },
      "source": [
        "<a href=\"https://colab.research.google.com/github/Indrateja25/Fashion/blob/master/TensorFlow01.ipynb\" target=\"_parent\"><img src=\"https://colab.research.google.com/assets/colab-badge.svg\" alt=\"Open In Colab\"/></a>"
      ]
    },
    {
      "cell_type": "code",
      "metadata": {
        "id": "V2FfLdhl3F03",
        "colab_type": "code",
        "colab": {
          "base_uri": "https://localhost:8080/",
          "height": 35
        },
        "outputId": "eb9b187a-69ee-403a-ab0c-fde9249fa004"
      },
      "source": [
        "import tensorflow as tf\n",
        "from tensorflow import keras\n",
        "import numpy as np \n",
        "import matplotlib as plt\n",
        "\n",
        "download_data = keras.datasets.fashion_mnist\n",
        "#print(download_data)\n",
        "#print(dir(download_data))\n",
        "#print(data[0],data[1])\n",
        "\n",
        "train_data = data[0]\n",
        "test_data = data[1]\n",
        "\n",
        "#print(len(data))  #Len , Size, Shape \n",
        "\n",
        "xtrain = train_data[0]\n",
        "ytrain = train_data[1]\n",
        "\n",
        "xtest = test_data[0]\n",
        "ytest = test_data[1]\n",
        "\n",
        "#print(xtrain.shape,ytrain.shape)\n",
        "\n"
      ],
      "execution_count": 28,
      "outputs": [
        {
          "output_type": "stream",
          "text": [
            "(60000, 28, 28) (60000,)\n"
          ],
          "name": "stdout"
        }
      ]
    },
    {
      "cell_type": "code",
      "metadata": {
        "id": "50L_bUyqHrQ0",
        "colab_type": "code",
        "colab": {}
      },
      "source": [
        ""
      ],
      "execution_count": 0,
      "outputs": []
    }
  ]
}